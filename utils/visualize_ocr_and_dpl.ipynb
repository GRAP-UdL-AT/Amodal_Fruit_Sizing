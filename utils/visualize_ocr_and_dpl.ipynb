{
 "cells": [
  {
   "cell_type": "code",
   "execution_count": 1,
   "metadata": {},
   "outputs": [],
   "source": [
    "import numpy as np\n",
    "import os\n",
    "from pyexcel_ods import get_data\n",
    "import seaborn as sns\n",
    "import pandas as pd\n",
    "import matplotlib.pyplot as plt\n",
    "\n",
    "from statistics import ceil_to_decimal\n",
    "\n",
    "from scipy.stats import wilcoxon\n",
    "from scipy.stats import mannwhitneyu"
   ]
  },
  {
   "cell_type": "code",
   "execution_count": 2,
   "metadata": {},
   "outputs": [],
   "source": [
    "gtfile = \"./datasets/train_val_test_files/visible_pixel_ratios_rgb_xyz.ods\"\n",
    "testimgdir = \"./datasets/train_val_test_files/orcnn/test/PNGImages\"\n",
    "\n",
    "gt = get_data(gtfile)\n",
    "\n",
    "data_combined = np.zeros((2560, 16), dtype = object)\n",
    "counter = 0\n",
    "all_plant_ids = []"
   ]
  },
  {
   "cell_type": "code",
   "execution_count": 3,
   "metadata": {},
   "outputs": [],
   "source": [
    "if os.path.isdir(testimgdir):\n",
    "    all_files = os.listdir(testimgdir)\n",
    "    testimages = [x.split(\".png\")[0] for x in all_files if \"rgb\" in x and \".png\" in x]"
   ]
  },
  {
   "cell_type": "code",
   "execution_count": 4,
   "metadata": {},
   "outputs": [],
   "source": [
    "for k in range(1, len(gt['visible_pixel_ratios'])):\n",
    "    gt_data = gt['visible_pixel_ratios'][k]\n",
    "    if gt_data:\n",
    "        if gt_data[0] != \"image_name\":\n",
    "            img_name = gt_data[0]\n",
    "            \n",
    "            if \"plant\" in img_name:\n",
    "                basename, fileext = os.path.splitext(img_name)\n",
    "                plant_id = int(basename.split(\"_\")[2].split(\"plant\")[1])\n",
    "                all_plant_ids.append(plant_id)\n",
    "\n",
    "unique_plant_ids = list(set(all_plant_ids))\n",
    "unique_plant_ids.sort()\n",
    "\n",
    "trigger_ids = []\n",
    "for j in range(len(unique_plant_ids)):\n",
    "    trigger_ids.append([])"
   ]
  },
  {
   "cell_type": "code",
   "execution_count": 5,
   "metadata": {},
   "outputs": [],
   "source": [
    "for k in range(1, len(gt['visible_pixel_ratios'])):\n",
    "    gt_data = gt['visible_pixel_ratios'][k]\n",
    "    if gt_data:\n",
    "        if gt_data[0] != \"image_name\":\n",
    "            img_name = gt_data[0]\n",
    "\n",
    "            if \"plant\" in img_name:\n",
    "                basename, fileext = os.path.splitext(img_name)\n",
    "                plant_id = int(basename.split(\"_\")[2].split(\"plant\")[1])\n",
    "                trigger_id = int(basename.split(\"_\")[4].split(\"trigger\")[1])\n",
    "                \n",
    "                idx = np.where(np.asarray(unique_plant_ids) == plant_id)[0][0]\n",
    "                trigger_ids[idx].append(trigger_id)\n",
    "\n",
    "first_trigger_numbers = []\n",
    "\n",
    "for j in range(len(trigger_ids)):\n",
    "    first_trigger_numbers.append(np.min(trigger_ids[j]))"
   ]
  },
  {
   "cell_type": "code",
   "execution_count": 6,
   "metadata": {},
   "outputs": [],
   "source": [
    "for k in range(1, len(gt['visible_pixel_ratios'])):\n",
    "    gt_data = gt['visible_pixel_ratios'][k]\n",
    "    if gt_data:\n",
    "        if gt_data[0] != \"image_name\":\n",
    "            img_name = gt_data[0]\n",
    "            occluded_pixels_rgb = gt_data[1]\n",
    "            vpr_rgb = gt_data[2]\n",
    "            nonoccluded_pixels_rgb = gt_data[3]\n",
    "            occluded_pixels_xyz = gt_data[4]\n",
    "            vpr_xyz = gt_data[5]\n",
    "            pixel_diff = gt_data[6]\n",
    "            vpr_diff = gt_data[7]\n",
    "            \n",
    "            basename, fileext = os.path.splitext(img_name)\n",
    "            \n",
    "            if basename in testimages:\n",
    "                testimg = 1\n",
    "            else:\n",
    "                testimg = 0\n",
    "\n",
    "            if \"plant\" in img_name:\n",
    "                plant_id = int(basename.split(\"_\")[2].split(\"plant\")[1])\n",
    "                trigger_id = int(basename.split(\"_\")[4].split(\"trigger\")[1])\n",
    "                \n",
    "                idx = np.where(np.asarray(unique_plant_ids) == plant_id)[0][0]\n",
    "                \n",
    "                first_trigger = first_trigger_numbers[idx]\n",
    "                \n",
    "                if trigger_id == first_trigger:\n",
    "                    simulated_occlusion = 0\n",
    "                    ocr_string = \"Natural occlusion\"\n",
    "                else:\n",
    "                    simulated_occlusion = 1\n",
    "                    ocr_string = \"Man-made occlusion\"\n",
    "                    \n",
    "                sensor = \"Realsense D435\"\n",
    "                sensor_id = 1\n",
    "            else:\n",
    "                sensor = \"Ensenso N35\"\n",
    "                sensor_id = 0\n",
    "                simulated_occlusion = 0\n",
    "                ocr_string = \"Natural occlusion\"\n",
    "\n",
    "            data_combined[counter, 0] = img_name\n",
    "            data_combined[counter, 1] = int(occluded_pixels_rgb)\n",
    "            data_combined[counter, 2] = float(vpr_rgb)\n",
    "            data_combined[counter, 3] = float(1-vpr_rgb)\n",
    "            data_combined[counter, 4] = round(ceil_to_decimal(float(1-vpr_rgb)), 1)\n",
    "            data_combined[counter, 5] = int(nonoccluded_pixels_rgb)\n",
    "            data_combined[counter, 6] = int(occluded_pixels_xyz)\n",
    "            data_combined[counter, 7] = float(vpr_xyz)\n",
    "            data_combined[counter, 8] = int(pixel_diff)\n",
    "            data_combined[counter, 9] = float(vpr_diff)\n",
    "            data_combined[counter, 10] = float(pixel_diff)/float(occluded_pixels_rgb)\n",
    "            data_combined[counter, 11] = sensor\n",
    "            data_combined[counter, 12] = int(sensor_id)\n",
    "            data_combined[counter, 13] = int(simulated_occlusion)\n",
    "            data_combined[counter, 14] = ocr_string\n",
    "            data_combined[counter, 15] = int(testimg)\n",
    "            counter = counter+1"
   ]
  },
  {
   "cell_type": "code",
   "execution_count": 7,
   "metadata": {},
   "outputs": [],
   "source": [
    "df = pd.DataFrame(data=data_combined, columns=[\"name\", \"pixels_rgb\", \"vpr_rgb\", \"ocr_rgb\", \"ocr\", \"total_pixels_rgb\", \"pixels_xyz\", \"vpr_xyz\", \"pixel_diff\", \"vpr_diff\", \"pixel_loss\", \"sensor\", \"sensor_id\", \"simulated_occlusion\", \"ocr_string\", \"testimage\"])"
   ]
  },
  {
   "cell_type": "code",
   "execution_count": 8,
   "metadata": {},
   "outputs": [
    {
     "name": "stdout",
     "output_type": "stream",
     "text": [
      "Natural occlusion rates\n",
      "n = 1197\n",
      "Mean OCR: 0.259\n",
      "STD OCR: 0.236\n",
      "\n",
      "Simulated occlusion rates\n",
      "n = 1363\n",
      "Mean OCR: 0.449\n",
      "STD OCR: 0.303\n"
     ]
    }
   ],
   "source": [
    "df[\"simulated_occlusion\"] = df[\"simulated_occlusion\"].astype(int)\n",
    "df[\"ocr_rgb\"] = df[\"ocr_rgb\"].astype(float)\n",
    "ocrs_list = df.groupby([\"simulated_occlusion\"])[\"ocr_rgb\"].apply(list)\n",
    "natural_ocrs = ocrs_list[0]\n",
    "simulated_ocrs = ocrs_list[1]\n",
    "\n",
    "print(\"Natural occlusion rates\")\n",
    "print(\"n = {0:d}\".format(len(natural_ocrs)))\n",
    "print(\"Mean OCR: {0:.3f}\".format(np.mean(natural_ocrs)))\n",
    "print(\"STD OCR: {0:.3f}\".format(np.std(natural_ocrs)))\n",
    "print(\"\")\n",
    "\n",
    "print(\"Simulated occlusion rates\")\n",
    "print(\"n = {0:d}\".format(len(simulated_ocrs)))\n",
    "print(\"Mean OCR: {0:.3f}\".format(np.mean(simulated_ocrs)))\n",
    "print(\"STD OCR: {0:.3f}\".format(np.std(simulated_ocrs)))"
   ]
  },
  {
   "cell_type": "code",
   "execution_count": 9,
   "metadata": {},
   "outputs": [
    {
     "data": {
      "image/png": "[encoded data removed]",
      "text/plain": [
       "<Figure size 792x252 with 1 Axes>"
      ]
     },
     "metadata": {},
     "output_type": "display_data"
    }
   ],
   "source": [
    "writedir = \"./results\"\n",
    "\n",
    "font_size = 15\n",
    "digit_size = 13\n",
    "annot_size = 14\n",
    "\n",
    "sns.set_style(\"ticks\")\n",
    "f, ax = plt.subplots(figsize=(11, 3.5))\n",
    "\n",
    "ax = sns.boxplot(x=\"ocr_rgb\", y=\"simulated_occlusion\", hue=\"ocr_string\", orient=\"h\", linewidth=2, data=df)\n",
    "\n",
    "ax.set_ylabel('')\n",
    "plt.legend(loc='center right', fontsize=font_size)\n",
    "\n",
    "plt.xlabel('Occlusion rate of the broccoli heads in the RGB image', fontsize=font_size)\n",
    "plt.xticks(fontsize=font_size)\n",
    "plt.yticks([])\n",
    "\n",
    "plt.annotate('n={:.0f}'.format(len(natural_ocrs)), (0.008, -0.25), fontsize=annot_size)\n",
    "plt.annotate('n={:.0f}'.format(len(simulated_ocrs)), (0.008, 1.15), fontsize=annot_size)\n",
    "\n",
    "plt.tight_layout()\n",
    "plt.savefig(os.path.join(writedir, 'natural_and_simulated_ocrs.png'))\n",
    "plt.show()"
   ]
  },
  {
   "cell_type": "code",
   "execution_count": 10,
   "metadata": {},
   "outputs": [],
   "source": [
    "unique_ocrs = list(set(df[\"ocr\"]))\n",
    "unique_ocrs.sort()\n",
    "ocr_counts = np.zeros(len(unique_ocrs)).astype(np.uint8)\n",
    "\n",
    "x_ticks_list = []"
   ]
  },
  {
   "cell_type": "code",
   "execution_count": 11,
   "metadata": {},
   "outputs": [
    {
     "name": "stdout",
     "output_type": "stream",
     "text": [
      "Number of testimages with a natural OCR:199\n",
      "Number of testimages with between the OCR bounds:161\n",
      "Number of testimages with a significantly higher simulated OCR:127\n",
      "Number of testimages with a significantly higher natural OCR:34\n"
     ]
    }
   ],
   "source": [
    "sel_ocr1 = df['ocr_rgb'] >= 0.5\n",
    "sel_ocr2 = df['ocr_rgb'] < 0.9\n",
    "sel_ocr3 = df['ocr_rgb'] < 0.5\n",
    "testimg = df['testimage'] == 1\n",
    "simulated = df['simulated_occlusion'] == 1\n",
    "natural = df['simulated_occlusion'] == 0\n",
    "\n",
    "print(\"Number of testimages with a natural OCR:\" + str(len(df[testimg & natural])))\n",
    "print(\"Number of testimages with between the OCR bounds:\" + str(len(df[sel_ocr1 & sel_ocr2 & testimg])))\n",
    "print(\"Number of testimages with a significantly higher simulated OCR:\" + str(len(df[sel_ocr1 & sel_ocr2 & simulated & testimg])))\n",
    "print(\"Number of testimages with a significantly higher natural OCR:\" + str(len(df[sel_ocr1 & sel_ocr2 & natural & testimg])))"
   ]
  },
  {
   "cell_type": "code",
   "execution_count": 12,
   "metadata": {},
   "outputs": [
    {
     "name": "stdout",
     "output_type": "stream",
     "text": [
      "Pixel loss on the depth image after RGB-D registration\n",
      "n = 2560\n",
      "Mean pixel loss: 0.202\n",
      "STD pixel loss: 0.199\n"
     ]
    }
   ],
   "source": [
    "df[\"pixel_loss\"] = df[\"pixel_loss\"].astype(float)\n",
    "\n",
    "print(\"Pixel loss on the depth image after RGB-D registration\")\n",
    "print(\"n = {0:d}\".format(2560))\n",
    "print(\"Mean pixel loss: {0:.3f}\".format(df[\"pixel_loss\"].mean()))\n",
    "print(\"STD pixel loss: {0:.3f}\".format(df[\"pixel_loss\"].std()))"
   ]
  },
  {
   "cell_type": "code",
   "execution_count": 13,
   "metadata": {},
   "outputs": [
    {
     "data": {
      "image/png": "[encoded data removed]",
      "text/plain": [
       "<Figure size 936x144 with 1 Axes>"
      ]
     },
     "metadata": {},
     "output_type": "display_data"
    }
   ],
   "source": [
    "font_size = 17\n",
    "digit_size = 15\n",
    "annot_size = 15\n",
    "\n",
    "sns.set_style(\"ticks\")\n",
    "f, ax = plt.subplots(figsize=(13, 2))\n",
    "\n",
    "ax = sns.boxplot(x=\"pixel_loss\", hue=\"pixel_loss\", orient=\"h\", linewidth=2, data=df)\n",
    "ax.set_ylabel('')\n",
    "\n",
    "plt.xlabel('Depth pixel loss inside the broccoli region in the registered depth image', fontsize=font_size)\n",
    "plt.xticks(fontsize=font_size)\n",
    "plt.yticks([])\n",
    "\n",
    "plt.annotate('n={:.0f}'.format(2560), (0.004, -0.08),  fontsize=annot_size)\n",
    "\n",
    "plt.tight_layout()\n",
    "plt.savefig(os.path.join(writedir, 'pixel_loss_depth_image.png'))\n",
    "plt.show()"
   ]
  },
  {
   "cell_type": "code",
   "execution_count": 14,
   "metadata": {},
   "outputs": [
    {
     "name": "stdout",
     "output_type": "stream",
     "text": [
      "Pixel loss on the depth image after RGB-D registration\n",
      "n = 2560\n",
      "sensor_id\n",
      "0    0.174771\n",
      "1    0.217417\n",
      "Name: pixel_loss, dtype: float64\n",
      "sensor_id\n",
      "0    0.177316\n",
      "1    0.209343\n",
      "Name: pixel_loss, dtype: float64\n"
     ]
    }
   ],
   "source": [
    "df[\"pixel_loss\"] = df[\"pixel_loss\"].astype(float)\n",
    "\n",
    "print(\"Pixel loss on the depth image after RGB-D registration\")\n",
    "print(\"n = {0:d}\".format(2560))\n",
    "print(df.groupby('sensor_id').mean()['pixel_loss'])\n",
    "print(df.groupby('sensor_id').std()['pixel_loss'])"
   ]
  },
  {
   "cell_type": "code",
   "execution_count": 15,
   "metadata": {},
   "outputs": [
    {
     "data": {
      "image/png": "[encoded data removed]",
      "text/plain": [
       "<Figure size 792x252 with 1 Axes>"
      ]
     },
     "metadata": {},
     "output_type": "display_data"
    }
   ],
   "source": [
    "font_size = 15\n",
    "digit_size = 13\n",
    "annot_size = 14\n",
    "\n",
    "sns.set_style(\"ticks\")\n",
    "f, ax = plt.subplots(figsize=(11, 3.5))\n",
    "\n",
    "ax = sns.boxplot(x=\"pixel_loss\", y=\"sensor_id\", hue=\"sensor\", orient=\"h\", linewidth=2, data=df)\n",
    "ax.set_ylabel('')\n",
    "plt.legend(loc='center right', fontsize=font_size)\n",
    "\n",
    "plt.xlabel('Depth pixel loss inside the broccoli region in the registered depth image', fontsize=font_size)\n",
    "plt.xticks(fontsize=font_size)\n",
    "plt.yticks([])\n",
    "\n",
    "plt.annotate('n={:.0f}'.format(df.groupby(['sensor_id']).size()[0]), (0.008, -0.25), fontsize=annot_size)\n",
    "plt.annotate('n={:.0f}'.format(df.groupby(['sensor_id']).size()[1]), (-0.008, 1.05), fontsize=annot_size)\n",
    "\n",
    "plt.tight_layout()\n",
    "plt.savefig(os.path.join(writedir, 'pixel_loss_depth_image_per_device.png'))\n",
    "plt.show()"
   ]
  }
 ],
 "metadata": {
  "kernelspec": {
   "display_name": "Python 3",
   "language": "python",
   "name": "python3"
  },
  "language_info": {
   "codemirror_mode": {
    "name": "ipython",
    "version": 3
   },
   "file_extension": ".py",
   "mimetype": "text/x-python",
   "name": "python",
   "nbconvert_exporter": "python",
   "pygments_lexer": "ipython3",
   "version": "3.8.3"
  }
 },
 "nbformat": 4,
 "nbformat_minor": 4
}
